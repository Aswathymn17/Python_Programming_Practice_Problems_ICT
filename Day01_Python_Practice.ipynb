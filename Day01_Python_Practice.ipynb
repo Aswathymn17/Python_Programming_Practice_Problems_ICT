{
  "nbformat": 4,
  "nbformat_minor": 0,
  "metadata": {
    "colab": {
      "provenance": [],
      "authorship_tag": "ABX9TyMAwKRUPfjCVEQMRWrEH60t",
      "include_colab_link": true
    },
    "kernelspec": {
      "name": "python3",
      "display_name": "Python 3"
    },
    "language_info": {
      "name": "python"
    }
  },
  "cells": [
    {
      "cell_type": "markdown",
      "metadata": {
        "id": "view-in-github",
        "colab_type": "text"
      },
      "source": [
        "<a href=\"https://colab.research.google.com/github/Aswathymn17/Python_Programming_Practice_Problems_ICT/blob/main/Day01_Python_Practice.ipynb\" target=\"_parent\"><img src=\"https://colab.research.google.com/assets/colab-badge.svg\" alt=\"Open In Colab\"/></a>"
      ]
    },
    {
      "cell_type": "markdown",
      "source": [
        "**Practice Problem Day01**"
      ],
      "metadata": {
        "id": "U7hDt6_ky93d"
      }
    },
    {
      "cell_type": "code",
      "execution_count": 3,
      "metadata": {
        "colab": {
          "base_uri": "https://localhost:8080/"
        },
        "id": "pE3YrL8ETcni",
        "outputId": "24a546b2-bd4b-49c2-f345-c25d7bdc32fb"
      },
      "outputs": [
        {
          "output_type": "stream",
          "name": "stdout",
          "text": [
            "Hello\n"
          ]
        }
      ],
      "source": [
        "# 1. Given the string \"Hello, World!\", extract and print the substring \"Hello\".\n",
        "string1='Hello, World!'\n",
        "print(string1[:5])"
      ]
    },
    {
      "cell_type": "code",
      "source": [
        "# 2. Given the string \"Python is fun\", extract and print the substring \"is\".\n",
        "string1='Python is fun'\n",
        "print(string1[7:9])"
      ],
      "metadata": {
        "colab": {
          "base_uri": "https://localhost:8080/"
        },
        "id": "8P6X61VczMta",
        "outputId": "0efd1cfc-c580-4481-8666-d6a1b5005060"
      },
      "execution_count": 4,
      "outputs": [
        {
          "output_type": "stream",
          "name": "stdout",
          "text": [
            "is\n"
          ]
        }
      ]
    },
    {
      "cell_type": "code",
      "source": [
        "# 3. Given the string \"Programming\", extract and print the substring \"gram\" using slicing indices.\n",
        "string1='Programming'\n",
        "print(string1[3:7])"
      ],
      "metadata": {
        "colab": {
          "base_uri": "https://localhost:8080/"
        },
        "id": "00kqpzeuzhIi",
        "outputId": "55aab025-6885-4fe7-e337-a6880132a81d"
      },
      "execution_count": 5,
      "outputs": [
        {
          "output_type": "stream",
          "name": "stdout",
          "text": [
            "gram\n"
          ]
        }
      ]
    },
    {
      "cell_type": "code",
      "source": [
        "# 4. Given the string \"abcdefgh\", use slicing to print only the characters at even indices.\n",
        "string1='abcdefgh'\n",
        "print(string1[::2])"
      ],
      "metadata": {
        "colab": {
          "base_uri": "https://localhost:8080/"
        },
        "id": "HQo-PrZQzuLR",
        "outputId": "cc392863-8e60-41f5-dcbe-d9d57cd9d154"
      },
      "execution_count": 6,
      "outputs": [
        {
          "output_type": "stream",
          "name": "stdout",
          "text": [
            "aceg\n"
          ]
        }
      ]
    },
    {
      "cell_type": "code",
      "source": [
        "# 5. Given the string \"abcdefg\", use negative indices to extract and print the substring \"efg\".\n",
        "string1='abcdefg'\n",
        "print(string1[-3:])"
      ],
      "metadata": {
        "colab": {
          "base_uri": "https://localhost:8080/"
        },
        "id": "pQxXgLh6z6lx",
        "outputId": "fafd5f41-1aaf-4756-db5a-7ac2dcd99624"
      },
      "execution_count": 8,
      "outputs": [
        {
          "output_type": "stream",
          "name": "stdout",
          "text": [
            "efg\n"
          ]
        }
      ]
    },
    {
      "cell_type": "code",
      "source": [
        "# 6.  Given the string \"Data Science\", use negative indices to extract and print the last three characters.\n",
        "string1='Data Science'\n",
        "print(string1[-3:])\n"
      ],
      "metadata": {
        "colab": {
          "base_uri": "https://localhost:8080/"
        },
        "id": "oDyEZxsJ0JOn",
        "outputId": "2258a505-7c0d-4c52-b9cb-b76637d40ab7"
      },
      "execution_count": 9,
      "outputs": [
        {
          "output_type": "stream",
          "name": "stdout",
          "text": [
            "nce\n"
          ]
        }
      ]
    },
    {
      "cell_type": "code",
      "source": [
        "# 7. Given the string \"abcdefghij\", use slicing with a step to print every second character\n",
        "string1='abcdefghij'\n",
        "print(string1[1::2])"
      ],
      "metadata": {
        "colab": {
          "base_uri": "https://localhost:8080/"
        },
        "id": "B9t1deWX0d5L",
        "outputId": "052721eb-8666-488c-b90f-83c54067919f"
      },
      "execution_count": 10,
      "outputs": [
        {
          "output_type": "stream",
          "name": "stdout",
          "text": [
            "bdfhj\n"
          ]
        }
      ]
    },
    {
      "cell_type": "code",
      "source": [
        "#8. Given the string \"1234567890\", use slicing with a step to print the odd digits\n",
        "string1='1234567890'\n",
        "print(string1[::2])"
      ],
      "metadata": {
        "colab": {
          "base_uri": "https://localhost:8080/"
        },
        "id": "lspU48r-0soq",
        "outputId": "83ad395b-e13b-44dc-c2be-d842099c53f9"
      },
      "execution_count": 11,
      "outputs": [
        {
          "output_type": "stream",
          "name": "stdout",
          "text": [
            "13579\n"
          ]
        }
      ]
    },
    {
      "cell_type": "code",
      "source": [
        "#9. Given the string \"Hello\", use slicing to print the string in reverse order.\n",
        "string1='Hello'\n",
        "print(string1[::-1])"
      ],
      "metadata": {
        "colab": {
          "base_uri": "https://localhost:8080/"
        },
        "id": "6uj0LoHx05J4",
        "outputId": "cdfe9bb5-7030-4e2f-be32-1177e5861365"
      },
      "execution_count": 12,
      "outputs": [
        {
          "output_type": "stream",
          "name": "stdout",
          "text": [
            "olleH\n"
          ]
        }
      ]
    },
    {
      "cell_type": "code",
      "source": [
        "#10. Given the string \"abcdefghijk\", extract and print the substring \"acegik\" using slicing\n",
        "string1='abcdefghijk'\n",
        "print(string1[::2])"
      ],
      "metadata": {
        "colab": {
          "base_uri": "https://localhost:8080/"
        },
        "id": "7THYcPtw1T7R",
        "outputId": "73138b3f-211e-4331-e636-9c616fc2f530"
      },
      "execution_count": 13,
      "outputs": [
        {
          "output_type": "stream",
          "name": "stdout",
          "text": [
            "acegik\n"
          ]
        }
      ]
    }
  ]
}