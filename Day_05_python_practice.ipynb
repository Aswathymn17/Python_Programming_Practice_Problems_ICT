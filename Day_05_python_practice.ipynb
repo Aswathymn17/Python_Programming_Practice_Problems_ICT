{
  "nbformat": 4,
  "nbformat_minor": 0,
  "metadata": {
    "colab": {
      "provenance": [],
      "authorship_tag": "ABX9TyPzv2j94Qp0DYEPWD7fnGX0",
      "include_colab_link": true
    },
    "kernelspec": {
      "name": "python3",
      "display_name": "Python 3"
    },
    "language_info": {
      "name": "python"
    }
  },
  "cells": [
    {
      "cell_type": "markdown",
      "metadata": {
        "id": "view-in-github",
        "colab_type": "text"
      },
      "source": [
        "<a href=\"https://colab.research.google.com/github/Aswathymn17/Python_Programming_Practice_Problems_ICT/blob/main/Day_05_python_practice.ipynb\" target=\"_parent\"><img src=\"https://colab.research.google.com/assets/colab-badge.svg\" alt=\"Open In Colab\"/></a>"
      ]
    },
    {
      "cell_type": "code",
      "execution_count": 62,
      "metadata": {
        "colab": {
          "base_uri": "https://localhost:8080/"
        },
        "id": "-TE1309VcltX",
        "outputId": "9a4c485c-e12f-454e-fb8a-34e8729979a8"
      },
      "outputs": [
        {
          "output_type": "stream",
          "name": "stdout",
          "text": [
            "the middle value among three integers is:  10\n",
            "the middle value among three integers is:  -2\n",
            "the middle value among three integers is:  200\n",
            "the middle value among three integers is:  70\n"
          ]
        }
      ],
      "source": [
        "# 1. Write a function that returns the middle value among three integers.Write code to test this function with different inputs\n",
        "def middle(a,b,c):\n",
        "  if(b <= a <= c) or (c <= a <= b):\n",
        "    return a\n",
        "  elif(a<= b<= c) or (c<=b<=a):\n",
        "    return b\n",
        "  else:\n",
        "    return c\n",
        "print(f'the middle value among three integers is: ',middle(1,20,10))\n",
        "print('the middle value among three integers is: ',middle(-5,-1,-2))\n",
        "print('the middle value among three integers is: ',middle(200,300,60))\n",
        "print('the middle value among three integers is: ',middle(50,80,70))\n",
        "\n",
        "\n"
      ]
    },
    {
      "cell_type": "code",
      "source": [
        "# 2. Build a calculator in Python using functions\n",
        "def add(a,b):\n",
        "  return a+b\n",
        "def sub(a,b):\n",
        "  return a-b\n",
        "def mult(a,b):\n",
        "  return a*b\n",
        "def mod(a,b):\n",
        "  return a%b\n",
        "def pow(a,b):\n",
        "  return a**b\n",
        "def divide(a,b):\n",
        "  if(b==0):\n",
        "    return 'Division by zero error'\n",
        "  else:\n",
        "    return a/b\n",
        "def calculator():\n",
        "    print('Select operation:')\n",
        "    print('1. Add')\n",
        "    print('2. Subtract')\n",
        "    print(\"3. Multiply\")\n",
        "    print('4. Modulus')\n",
        "    print('5.Divide')\n",
        "    print('6. Exponentiate')\n",
        "    choice=int(input('Enter your choice: '))\n",
        "    if choice in [1,2,3,4,5]:\n",
        "        num1,num2=map(int,input('Enter two numbers').split(','))\n",
        "        if choice==1:\n",
        "          print('Result: ',add(num1,num2))\n",
        "        elif choice==2:\n",
        "          print('result: ',sub(num1,num2))\n",
        "        elif choice==3:\n",
        "          print('result: ',mult(num1,num2))\n",
        "        elif choice==4:\n",
        "          print('result: ',mod(num1,num2))\n",
        "        elif choice==5:\n",
        "          print('result: ',divide(num1,num2))\n",
        "        elif choice==6:\n",
        "          print('result: ',pow(num1,num2))\n",
        "        else:\n",
        "          print('Invalid input')\n",
        "calculator()\n"
      ],
      "metadata": {
        "colab": {
          "base_uri": "https://localhost:8080/"
        },
        "id": "Sys-22AbcyBm",
        "outputId": "452d5065-9838-4f74-b930-2b2ec5409b3c"
      },
      "execution_count": 63,
      "outputs": [
        {
          "output_type": "stream",
          "name": "stdout",
          "text": [
            "Select operation:\n",
            "1. Add\n",
            "2. Subtract\n",
            "3. Multiply\n",
            "4. Modulus\n",
            "5.Divide\n",
            "6. Exponentiate\n",
            "Enter your choice: 3\n",
            "Enter two numbers7,9\n",
            "result:  63\n"
          ]
        }
      ]
    },
    {
      "cell_type": "code",
      "source": [
        "# 3. Write a function that takes the lengths of the two shorter sides of a right triangle as its\n",
        "#parameters. Return the hypotenuse of the triangle, computed using Pythagorean theorem,as the function’s result.\n",
        "import math\n",
        "def pythagorean(a,b):\n",
        "  c=(math.sqrt(a**2+b**2))\n",
        "  return c\n",
        "side1,side2=map(float,input('enter the two side of triangle: ').split(','))\n",
        "print('Hypotenuse of triangle',pythagorean(side1,side2))"
      ],
      "metadata": {
        "colab": {
          "base_uri": "https://localhost:8080/"
        },
        "id": "w2HSfCc5dEvY",
        "outputId": "780b0b8f-797b-4d27-d6a2-30b0b880f502"
      },
      "execution_count": 57,
      "outputs": [
        {
          "output_type": "stream",
          "name": "stdout",
          "text": [
            "enter the two side of triangle: 7,8\n",
            "Hypotenuse of triangle 10.63014581273465\n"
          ]
        }
      ]
    },
    {
      "cell_type": "code",
      "source": [
        "9\"\"\"\"\n",
        "The Rectangle problem\n",
        "(a) Write a Rectangle class in Python language, allowing you to build a rectangle with\n",
        "length and width attributes.\n",
        "(b) Create a Perimeter() method to calculate the perimeter of the rectangle and a Area()\n",
        "method to calculate the area of the rectangle.\n",
        "(c) Create a method display() that display the length, width, perimeter and area of an\n",
        "object created using an instantiation on rectangle class.\n",
        "\"\"\"\n",
        "class Rectangle:\n",
        "  def __init__(self,length,width):\n",
        "    self.length=length\n",
        "    self.width=width\n",
        "  def Perimeter(self):\n",
        "    return 2*(self.length+self.width)\n",
        "  def Area(self):\n",
        "    return self.length*self.width\n",
        "  def display(self):\n",
        "     return f'Length: {self.length}\\nWidth: {self.width}\\nPerimeter: {self.Perimeter()}\\nArea: {self.Area()}'\n",
        "l,w=map(float,input('enter the length and width of Rectangle: ').split(','))\n",
        "rect=Rectangle(l,w)\n",
        "print(rect.display())"
      ],
      "metadata": {
        "colab": {
          "base_uri": "https://localhost:8080/"
        },
        "id": "cRgpXbhldNLP",
        "outputId": "903e63e6-c98d-4911-8274-88575ffb0e05"
      },
      "execution_count": null,
      "outputs": [
        {
          "output_type": "stream",
          "name": "stdout",
          "text": [
            "enter the length and width of Rectangle: 10.2,15.5\n",
            "Length: 10.2\n",
            "Width: 15.5\n",
            "Perimeter: 51.4\n",
            "Area: 158.1\n"
          ]
        }
      ]
    },
    {
      "cell_type": "code",
      "source": [
        "\"\"\"\n",
        "The Bank Account problem\n",
        "(a) Create a Python class called BankAccount which represents a bank account, having\n",
        "as attributes: accountNumber (numeric type), name (name of the account owner as\n",
        "string type), balance.\n",
        "(b) Create a constructor with parameters: accountNumber, name, balance.\n",
        "(c) Create a Deposit() method which manages the deposit actions.\n",
        "(d) Create a Withdrawal() method which manages withdrawals actions.\n",
        "(e) Create an bankFees() method to apply the bank fees with a percentage of 5% of the\n",
        "balance account.\n",
        "(f) Create a display() method to display account details.\n",
        "\"\"\"\n",
        "class BankAccount:\n",
        "  def __init__(self,accountNumber,name,balance):\n",
        "    self.accountNumber=accountNumber\n",
        "    self.name=name\n",
        "    self.balance=balance\n",
        "  def deposit(self,amount):\n",
        "     if amount > 0:\n",
        "        self.balance += amount\n",
        "        return f'Deposited: ${amount} - New balance: ${self.balance}'\n",
        "     else:\n",
        "        return f'Invalid amount for deposit'\n",
        "  def Withdrawal(self,amount):\n",
        "    if 0 < amount <= self.balance:\n",
        "        self.balance -= amount\n",
        "        return f'withdrawal Amount: ${amount} - Balance Amount: ${self.balance}'\n",
        "    else:\n",
        "        return 'Insufficient funds or invalid amount for withdrawal.'\n",
        "  def bankFees(self):\n",
        "    fees = self.balance * 0.05\n",
        "    self.balance -= fees\n",
        "    return f'Bank fees applied: {fees} - New balance: ${self.balance}'\n",
        "  def display(self):\n",
        "    return f'Account Number: {self.accountNumber} - Account Holder Name: {self.name} - Balance: {self.balance}'\n",
        "account=BankAccount(123456789,'Achu',30000)\n",
        "print(account.display())\n",
        "print(account.deposit(5000))\n",
        "print(account.Withdrawal(2000))\n",
        "print(account.bankFees())\n",
        "print(account.display())\n",
        "\n",
        "account1=BankAccount(987654321,'Janu',5000)\n",
        "print(account1.display())\n",
        "print(account1.deposit(0))\n",
        "print(account1.Withdrawal(10000))\n",
        "print(account1.bankFees())\n",
        "print(account1.display())\n"
      ],
      "metadata": {
        "colab": {
          "base_uri": "https://localhost:8080/"
        },
        "id": "35tEz3rQf0c-",
        "outputId": "dc01b12c-ba7e-47af-fb00-f9757ec0e31e"
      },
      "execution_count": null,
      "outputs": [
        {
          "output_type": "stream",
          "name": "stdout",
          "text": [
            "Account Number: 123456789 - Account Holder Name: Achu - Balance: 30000\n",
            "Deposited: $5000 - New balance: $35000\n",
            "withdrawal Amount: $2000 - Balance Amount: $33000\n",
            "Bank fees applied: 1650.0 - New balance: $31350.0\n",
            "Account Number: 123456789 - Account Holder Name: Achu - Balance: 31350.0\n",
            "Account Number: 987654321 - Account Holder Name: Janu - Balance: 5000\n",
            "Invalid amount for deposit\n",
            "Insufficient funds or invalid amount for withdrawal.\n",
            "Bank fees applied: 250.0 - New balance: $4750.0\n",
            "Account Number: 987654321 - Account Holder Name: Janu - Balance: 4750.0\n"
          ]
        }
      ]
    },
    {
      "cell_type": "code",
      "source": [],
      "metadata": {
        "id": "PiUKnGvpuMZa"
      },
      "execution_count": null,
      "outputs": []
    }
  ]
}