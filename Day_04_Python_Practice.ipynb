{
  "nbformat": 4,
  "nbformat_minor": 0,
  "metadata": {
    "colab": {
      "provenance": [],
      "authorship_tag": "ABX9TyMcaXuPLFwdlaBg7x7cfxGw",
      "include_colab_link": true
    },
    "kernelspec": {
      "name": "python3",
      "display_name": "Python 3"
    },
    "language_info": {
      "name": "python"
    }
  },
  "cells": [
    {
      "cell_type": "markdown",
      "metadata": {
        "id": "view-in-github",
        "colab_type": "text"
      },
      "source": [
        "<a href=\"https://colab.research.google.com/github/Aswathymn17/Python_Programming_Practice_Problems_ICT/blob/main/Day_04_Python_Practice.ipynb\" target=\"_parent\"><img src=\"https://colab.research.google.com/assets/colab-badge.svg\" alt=\"Open In Colab\"/></a>"
      ]
    },
    {
      "cell_type": "code",
      "source": [
        "\"\"\"\n",
        "1. Write an interactive Python Program to implement following “Guess Game”\n",
        "i. Think of a number between 1 and 10 and store it in a variable called\n",
        "\"secretNumber\".\n",
        "ii. Ask the user to enter a number between 1 and 10 and store it in a variable called\n",
        "\"guess\".\n",
        "iii. Use control statements (if-else) to check if the guess is correct, higher, or lower\n",
        "than the secret number.\n",
        "iv. Display appropriate messages to the user based on their guess:\n",
        "• If the guess is correct, display \"Congratulations! You guessed the number\n",
        "correctly!\"\n",
        "• If the guess is higher than the secret number, display \"Too high! Try\n",
        "again.\"\n",
        "• If the guess is lower than the secret number, display \"Too low! Try again.\"\n",
        "v. Allow the user to keep guessing until they guess the correct number\n",
        "\"\"\"\n",
        "import random\n",
        "secretNumber = random.randint(1, 10) # Generate a random number between 1 and 10\n",
        "while True:\n",
        "    guess = int(input(\"Enter a number between 1 and 10: \")) # Ask the user to guess the number\n",
        "    if guess == secretNumber:             # Check if the guess is correct, higher, or lower than the secret number\n",
        "        print(\"Congratulations! You guessed the number correctly!\")\n",
        "        break\n",
        "    elif guess < secretNumber:\n",
        "        print(\"Too low! Try again.\")\n",
        "    else:\n",
        "        print(\"Too high! Try again.\")\n"
      ],
      "metadata": {
        "colab": {
          "base_uri": "https://localhost:8080/"
        },
        "id": "7Aj4wRtbdnF8",
        "outputId": "09e78975-b55b-438c-b021-f6def3ce0cf8"
      },
      "execution_count": 2,
      "outputs": [
        {
          "output_type": "stream",
          "name": "stdout",
          "text": [
            "Enter a number between 1 and 10: 7\n",
            "Too high! Try again.\n",
            "Enter a number between 1 and 10: 4\n",
            "Too low! Try again.\n",
            "Enter a number between 1 and 10: 1\n",
            "Too low! Try again.\n",
            "Enter a number between 1 and 10: 8\n",
            "Too high! Try again.\n",
            "Enter a number between 1 and 10: 6\n",
            "Congratulations! You guessed the number correctly!\n"
          ]
        }
      ]
    },
    {
      "cell_type": "code",
      "source": [
        "\"\"\" Write a program to find and print the Factorial of this number. The Factorial of a positive\n",
        "integer N refers to the product of all number in the range from 1 to N.\n",
        "\"\"\"\n",
        "N= int(input(\"Enter a Positive integer: \"))\n",
        "if N < 0:\n",
        "    print(\"Factorial is not defined for negative numbers.\")\n",
        "elif N == 0:\n",
        "    print(\"Factorial of 0 is 1\")\n",
        "else:\n",
        "    factorial = 1\n",
        "    for i in range(1,N+1):\n",
        "        factorial*= i\n",
        "    print(\"The factorial of number \",N, \"is\",factorial)"
      ],
      "metadata": {
        "colab": {
          "base_uri": "https://localhost:8080/"
        },
        "id": "_n373tk5gUEc",
        "outputId": "927a7fc1-ce01-41e1-9aee-6d06f608be6b"
      },
      "execution_count": 23,
      "outputs": [
        {
          "output_type": "stream",
          "name": "stdout",
          "text": [
            "Enter a Positive integer: 5\n",
            "The factorial of number  5 is 120\n"
          ]
        }
      ]
    },
    {
      "cell_type": "code",
      "execution_count": 21,
      "metadata": {
        "colab": {
          "base_uri": "https://localhost:8080/"
        },
        "id": "-_NvPg5CYgJq",
        "outputId": "c28f7746-382d-4c69-998a-a666b2a4e273"
      },
      "outputs": [
        {
          "output_type": "stream",
          "name": "stdout",
          "text": [
            "Enter the minimum dimension of the picture: 5\n",
            "Enter the number of photos: 6\n",
            "Enter the dimensions (W H) of the photo: 5,5\n",
            "ACCEPTED\n",
            "Enter the dimensions (W H) of the photo: 4,5\n",
            "UPLOAD ANOTHER\n",
            "Enter the dimensions (W H) of the photo: 5,6\n",
            "CROP IT\n",
            "Enter the dimensions (W H) of the photo: 8,7\n",
            "CROP IT\n",
            "Enter the dimensions (W H) of the photo: 6,6\n",
            "ACCEPTED\n",
            "Enter the dimensions (W H) of the photo: 3,3\n",
            "UPLOAD ANOTHER\n"
          ]
        }
      ],
      "source": [
        "\"\"\"\n",
        "Roy wants to change his profile picture on Facebook. Now Facebook has some\n",
        "restriction over the dimension of picture that we can upload.\n",
        "Minimum dimension of the picture can be L x L, where L is the length of the side\n",
        "of square. Now Roy has N photos of various dimensions.\n",
        "Dimension of a photo is denoted as W x H\n",
        "where W - width of the photo and H - Height of the photo\n",
        "• When any photo is uploaded following events may occur:\n",
        "[1] If any of the width or height is less than L, user is prompted to upload another\n",
        "one. Print \"UPLOAD ANOTHER\" in this case.\n",
        "[2] If width and height, both are large enough and\n",
        "(a) if the photo is already square then it is accepted. Print \"ACCEPTED\" in this\n",
        "case.\n",
        "(b) else user is prompted to crop it. Print \"CROP IT\" in this case.\n",
        "Given L, N, W and H as input, write a program to print appropriate text as output\n",
        "\"\"\"\n",
        "L = int(input(\"Enter the minimum dimension of the picture: \"))\n",
        "N = int(input(\"Enter the number of photos: \"))\n",
        "\n",
        "for i in range(N):\n",
        "    W, H = map(int, input(\"Enter the dimensions (W H) of the photo: \").split(','))\n",
        "\n",
        "    if W < L or H < L:\n",
        "        print(\"UPLOAD ANOTHER\")\n",
        "    elif W == H:\n",
        "        print(\"ACCEPTED\")\n",
        "    else:\n",
        "        print(\"CROP IT\")"
      ]
    }
  ]
}