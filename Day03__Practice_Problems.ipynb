{
  "nbformat": 4,
  "nbformat_minor": 0,
  "metadata": {
    "colab": {
      "provenance": [],
      "authorship_tag": "ABX9TyNeRHutlvf3XWS//hAQUo2K",
      "include_colab_link": true
    },
    "kernelspec": {
      "name": "python3",
      "display_name": "Python 3"
    },
    "language_info": {
      "name": "python"
    }
  },
  "cells": [
    {
      "cell_type": "markdown",
      "metadata": {
        "id": "view-in-github",
        "colab_type": "text"
      },
      "source": [
        "<a href=\"https://colab.research.google.com/github/Aswathymn17/Python_Programming_Practice_Problems_ICT/blob/main/Day03__Practice_Problems.ipynb\" target=\"_parent\"><img src=\"https://colab.research.google.com/assets/colab-badge.svg\" alt=\"Open In Colab\"/></a>"
      ]
    },
    {
      "cell_type": "code",
      "execution_count": 7,
      "metadata": {
        "colab": {
          "base_uri": "https://localhost:8080/"
        },
        "id": "_IXnqheo1z3L",
        "outputId": "1f41cf81-932b-4b30-fe25-46143a04eec5"
      },
      "outputs": [
        {
          "output_type": "stream",
          "name": "stdout",
          "text": [
            "Enter the number of participants: 6\n",
            "Enter the score of each participant: 89\n",
            "Enter the score of each participant: 100\n",
            "Enter the score of each participant: 99\n",
            "Enter the score of each participant: 99\n",
            "Enter the score of each participant: 67\n",
            "Enter the score of each participant: 88\n",
            "The runner-up score is: 99\n"
          ]
        }
      ],
      "source": [
        "#Given the participants' score sheet for your University Sports Day, you are required to\n",
        "#find the runner-up score. You are given scores. Store them in a list and find the score of\n",
        "#the runner-up. (Create an array of scores and print the runner up score)\n",
        "scores = []\n",
        "n = int(input(\"Enter the number of participants: \"))\n",
        "for i in range(n):\n",
        "    score = int(input('Enter the score of each participant: '))\n",
        "    scores.append(score)\n",
        "unique_scores = []  # Remove duplicates from the list of scores\n",
        "for score in scores:\n",
        "    if score not in unique_scores:\n",
        "        unique_scores.append(score)\n",
        "scores.sort() #sorting the score\n",
        "scores.reverse() #decending order\n",
        "if len(scores) >= 2:\n",
        "    print(\"The runner-up score is:\", scores[1])\n",
        "else:\n",
        "    print(\"Not enough scores to determine a runner-up.\")\n",
        "\n",
        "\n"
      ]
    },
    {
      "cell_type": "code",
      "source": [
        "#A dictionary is given D={‘John’ [25,32,43],’Peter’:[87,55,96],’Ram’:[58,55,43],’Meena’:[63,79,85]}\n",
        "#Get a name from user if the name in the dictionary change the values corresponding to\n",
        "#that user to [88,77,99] and print the dictionary. Else print ‘Name not found’.\n",
        "\n",
        "D={'John':[25,32,43],'Peter':[87,55,96],'Ram':[58,55,43],'Meena':[63,79,85]}\n",
        "name=input('enter a name: ')\n",
        "if name in D:\n",
        "    D[name]=[88,77,99]\n",
        "    print(D)\n",
        "else:\n",
        "  print('Name not Found')\n"
      ],
      "metadata": {
        "id": "YkWzRHIH3_Iz",
        "colab": {
          "base_uri": "https://localhost:8080/"
        },
        "outputId": "11b3179b-7420-41ad-cd34-c5e9bae40f93"
      },
      "execution_count": null,
      "outputs": [
        {
          "output_type": "stream",
          "name": "stdout",
          "text": [
            "enter a name: John\n",
            "{'John': [88, 77, 99], 'Peter': [87, 55, 96], 'Ram': [58, 55, 43], 'Meena': [63, 79, 85]}\n"
          ]
        }
      ]
    },
    {
      "cell_type": "code",
      "source": [
        "\"\"\"\n",
        "Ticket Price Calculator:\n",
        "I. Ask the user to enter their age.\n",
        "II. Use control statements (if-elif-else) to calculate the ticket price based on the following conditions:\n",
        "a. If the age is below 5, the ticket price is free.\n",
        "b. If the age is between 5 and 12 (inclusive), the ticket price is Rs.10.\n",
        "c. If the age is above 12, the ticket price is Rs.50.\n",
        "d. If the age is above 60, the ticket price is free.\n",
        "e. If the gender is female, the ticket price is 50% of the applicable rates.\n",
        "III. Display the ticket price to the user.\n",
        "\"\"\"\n",
        "age=int(input('Enter the age of user: '))\n",
        "gender=input('enter the gender Female or Male: ')\n",
        "gender.lower()\n",
        "if age<5 or age>60:\n",
        "  price=0\n",
        "elif 5<=age<=12:\n",
        "  price=10\n",
        "else:\n",
        "  price=50\n",
        "if gender=='female':\n",
        "  price*=0.5\n",
        "print('Ticket price of user is: ',price)\n",
        "\n",
        "\n",
        "\n",
        "\n"
      ],
      "metadata": {
        "colab": {
          "base_uri": "https://localhost:8080/"
        },
        "id": "fm-V02064n9-",
        "outputId": "97cf6af9-6657-4813-80f1-b86e3e826c1f"
      },
      "execution_count": 6,
      "outputs": [
        {
          "output_type": "stream",
          "name": "stdout",
          "text": [
            "Enter the age of user: 6\n",
            "enter the gender Female or Male: female\n",
            "Ticket price of user is:  5.0\n"
          ]
        }
      ]
    },
    {
      "cell_type": "code",
      "source": [],
      "metadata": {
        "id": "j92Wp1K2Jnvj"
      },
      "execution_count": 2,
      "outputs": []
    }
  ]
}