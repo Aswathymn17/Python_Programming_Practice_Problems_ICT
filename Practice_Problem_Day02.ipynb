{
  "nbformat": 4,
  "nbformat_minor": 0,
  "metadata": {
    "colab": {
      "provenance": [],
      "authorship_tag": "ABX9TyM0xJjGjbE39gJu0e6TNfbU",
      "include_colab_link": true
    },
    "kernelspec": {
      "name": "python3",
      "display_name": "Python 3"
    },
    "language_info": {
      "name": "python"
    }
  },
  "cells": [
    {
      "cell_type": "markdown",
      "metadata": {
        "id": "view-in-github",
        "colab_type": "text"
      },
      "source": [
        "<a href=\"https://colab.research.google.com/github/Aswathymn17/Python_Programming_Practice_Problems_ICT/blob/main/Practice_Problem_Day02.ipynb\" target=\"_parent\"><img src=\"https://colab.research.google.com/assets/colab-badge.svg\" alt=\"Open In Colab\"/></a>"
      ]
    },
    {
      "cell_type": "markdown",
      "source": [
        "**Practice Problems Day02**"
      ],
      "metadata": {
        "id": "xnZ9fDq98lLe"
      }
    },
    {
      "cell_type": "code",
      "source": [
        "# 1. Write a program to find sum of all elements in a list of integers.\n",
        "list1=[1,77,88,4,9,10,20]\n",
        "print(sum(list1))"
      ],
      "metadata": {
        "colab": {
          "base_uri": "https://localhost:8080/"
        },
        "id": "E2w-BH048pxI",
        "outputId": "c9ef6123-0faf-4043-87ed-bfdbc383b83d"
      },
      "execution_count": 1,
      "outputs": [
        {
          "output_type": "stream",
          "name": "stdout",
          "text": [
            "209\n"
          ]
        }
      ]
    },
    {
      "cell_type": "code",
      "source": [
        "# 3. Input a sentence as a string.\n",
        "# a)Print its length\n",
        "# b)Print the first half of string\n",
        "#a)\n",
        "sen=input('Enter the sentence ')\n",
        "len_sen=len(sen)\n",
        "print('Length is string is ',len_sen)\n",
        "#b)\n",
        "f_half=len_sen//2\n",
        "print('First half of string is ',sen[:f_half])\n"
      ],
      "metadata": {
        "colab": {
          "base_uri": "https://localhost:8080/"
        },
        "id": "ddS5JKIu9e-Y",
        "outputId": "02e5f02d-6a69-4e42-c3dc-34f938524694"
      },
      "execution_count": 5,
      "outputs": [
        {
          "output_type": "stream",
          "name": "stdout",
          "text": [
            "Enter the sentence HelloWelcome\n",
            "Length is string is  12\n",
            "First half of string is  HelloW\n"
          ]
        }
      ]
    },
    {
      "cell_type": "code",
      "source": [
        "# 4. Write a program to enter a tuple of integers as (78,45,32,19,82,77,40,39). Change the third value in the tuple to 100\n",
        "tuple1=(78,45,32,19,82,77,40,39)\n",
        "list1=list(tuple1)\n",
        "list1[2]=100\n",
        "tuplenew=tuple(list1)\n",
        "print(tuplenew)"
      ],
      "metadata": {
        "colab": {
          "base_uri": "https://localhost:8080/"
        },
        "id": "9OFqCqjV_y0D",
        "outputId": "555c85a0-f13e-4e63-d1f0-b38ba563722b"
      },
      "execution_count": 6,
      "outputs": [
        {
          "output_type": "stream",
          "name": "stdout",
          "text": [
            "(78, 45, 100, 19, 82, 77, 40, 39)\n"
          ]
        }
      ]
    },
    {
      "cell_type": "code",
      "source": [
        "\"\"\"\n",
        "5. Consider a list listA=[19,32,10,55,31,32,94,29,10,65,77,40,40]\n",
        "(a)Delete the first occurrence of 32\n",
        "(b)Delete all occurrences of 40\n",
        "(c)Delete the value at index=5\n",
        "(d)Modify the value at index=9 as 300\n",
        "(e)Add 200 at index=2\n",
        "(f)Print the final list with its length, maximum value and sum of all elements\n",
        "\"\"\"\n",
        "\n",
        "listA=[19,32,10,55,31,32,94,29,10,65,77,40,40]"
      ],
      "metadata": {
        "id": "bLfdInZHAqyu"
      },
      "execution_count": 7,
      "outputs": []
    },
    {
      "cell_type": "code",
      "source": [
        "# a.) Delete the first occurrence of 32\n",
        "listA.remove(32)\n",
        "listA"
      ],
      "metadata": {
        "id": "hAI7AiUUBKoA",
        "colab": {
          "base_uri": "https://localhost:8080/"
        },
        "outputId": "c1f9d9af-a93c-4d58-80a1-a3534d391513"
      },
      "execution_count": 8,
      "outputs": [
        {
          "output_type": "execute_result",
          "data": {
            "text/plain": [
              "[19, 10, 55, 31, 32, 94, 29, 10, 65, 77, 40, 40]"
            ]
          },
          "metadata": {},
          "execution_count": 8
        }
      ]
    },
    {
      "cell_type": "code",
      "source": [
        "# b.) Delete all occurrences of 40\n",
        "# del listA[-2:]\n",
        "listA=[x for x in listA if x!=40]\n",
        "listA"
      ],
      "metadata": {
        "id": "FvFzUvcPBc3r",
        "colab": {
          "base_uri": "https://localhost:8080/"
        },
        "outputId": "01d29686-da3e-4f69-f880-63f26930a8e7"
      },
      "execution_count": 9,
      "outputs": [
        {
          "output_type": "execute_result",
          "data": {
            "text/plain": [
              "[19, 10, 55, 31, 32, 94, 29, 10, 65, 77]"
            ]
          },
          "metadata": {},
          "execution_count": 9
        }
      ]
    },
    {
      "cell_type": "code",
      "source": [
        "# c.) Delete the value at index=5\n",
        "listA.pop(5)\n",
        "listA"
      ],
      "metadata": {
        "colab": {
          "base_uri": "https://localhost:8080/"
        },
        "id": "pkJDbiK1ByJR",
        "outputId": "855760fd-fb9f-422b-bba8-4f3cb2762b00"
      },
      "execution_count": 10,
      "outputs": [
        {
          "output_type": "execute_result",
          "data": {
            "text/plain": [
              "[19, 10, 55, 31, 32, 29, 10, 65, 77]"
            ]
          },
          "metadata": {},
          "execution_count": 10
        }
      ]
    },
    {
      "cell_type": "code",
      "source": [
        "#d.) Modify the value at index=9 as 300\n",
        "#index 9 is out of range so I inserted 300 at index 9.\n",
        "listA.insert(9,300)\n",
        "listA"
      ],
      "metadata": {
        "colab": {
          "base_uri": "https://localhost:8080/"
        },
        "id": "vBKD9MyFCE2Y",
        "outputId": "0547ff97-7580-4d08-9a24-bf8985c3800b"
      },
      "execution_count": 12,
      "outputs": [
        {
          "output_type": "execute_result",
          "data": {
            "text/plain": [
              "[19, 10, 55, 31, 32, 29, 10, 65, 77, 300]"
            ]
          },
          "metadata": {},
          "execution_count": 12
        }
      ]
    },
    {
      "cell_type": "code",
      "source": [
        "# e.) Add 200 at index=2\n",
        "listA.insert(2,200)\n",
        "listA"
      ],
      "metadata": {
        "colab": {
          "base_uri": "https://localhost:8080/"
        },
        "id": "IgMJ_A6GDIDi",
        "outputId": "850eccd5-6f7e-46cc-bfce-968918b9a58e"
      },
      "execution_count": null,
      "outputs": [
        {
          "output_type": "execute_result",
          "data": {
            "text/plain": [
              "[19, 10, 200, 55, 31, 32, 29, 10, 65, 77, 300]"
            ]
          },
          "metadata": {},
          "execution_count": 15
        }
      ]
    },
    {
      "cell_type": "code",
      "source": [
        "# f.) Print the final list with its length, maximum value and sum of all elements\n",
        "print('Final list length is', len(listA))\n",
        "print('Max value in list is ',max(listA))\n",
        "print('Sum of all elements in list is ',sum(listA))"
      ],
      "metadata": {
        "colab": {
          "base_uri": "https://localhost:8080/"
        },
        "id": "77hZngnADrRn",
        "outputId": "8c36eaad-d4d3-4a02-fe11-2239c2be2403"
      },
      "execution_count": 13,
      "outputs": [
        {
          "output_type": "stream",
          "name": "stdout",
          "text": [
            "Final list length is 10\n",
            "Max value in list is  300\n",
            "Sum of all elements in list is  628\n"
          ]
        }
      ]
    },
    {
      "cell_type": "code",
      "source": [
        "\"\"\"\n",
        "Consider a string ”The day has been long”.\n",
        "(a)Delete the value at index =4\n",
        "(b)Print the string 4 times in a single line with space between each repetition\n",
        "(c)Print the string 3 times in a new line each time\n",
        "(d)Modify the string at index 7 as ’A’\n",
        "(e)Print the string from index 4 to 15\n",
        "(f)Print the final string with its length\n",
        "\"\"\"\n",
        "string1='The day has been long'"
      ],
      "metadata": {
        "id": "WL-h736qESgn"
      },
      "execution_count": 16,
      "outputs": []
    },
    {
      "cell_type": "code",
      "source": [
        "# a.) Delete the value at index =4\n",
        "string1=string1[:4]+string1[5:]\n",
        "print(string1)"
      ],
      "metadata": {
        "colab": {
          "base_uri": "https://localhost:8080/"
        },
        "id": "X1HjN-JYEokS",
        "outputId": "8a95571c-e03f-4b1b-8707-e0f24c6057eb"
      },
      "execution_count": 17,
      "outputs": [
        {
          "output_type": "stream",
          "name": "stdout",
          "text": [
            "The ay has been long\n"
          ]
        }
      ]
    },
    {
      "cell_type": "code",
      "source": [
        "# b.) Print the string 4 times in a single line with space between each repetition\n",
        "string1=(string1+' ')*4\n",
        "print(string1)"
      ],
      "metadata": {
        "colab": {
          "base_uri": "https://localhost:8080/"
        },
        "id": "JP43HWW7Fs2v",
        "outputId": "54251e0c-4142-41d8-a1fc-ac30c8689240"
      },
      "execution_count": 18,
      "outputs": [
        {
          "output_type": "stream",
          "name": "stdout",
          "text": [
            "The ay has been long The ay has been long The ay has been long The ay has been long \n"
          ]
        }
      ]
    },
    {
      "cell_type": "code",
      "source": [
        "# c.) Print the string 3 times in a new line each time\n",
        "string1=(string1+'\\n')*3\n",
        "print(string1)"
      ],
      "metadata": {
        "colab": {
          "base_uri": "https://localhost:8080/"
        },
        "id": "pwgF18TIF7CH",
        "outputId": "bf19ce79-36fe-4c3a-e9ca-2fec6c2fd677"
      },
      "execution_count": 19,
      "outputs": [
        {
          "output_type": "stream",
          "name": "stdout",
          "text": [
            "The ay has been long The ay has been long The ay has been long The ay has been long \n",
            "The ay has been long The ay has been long The ay has been long The ay has been long \n",
            "The ay has been long The ay has been long The ay has been long The ay has been long \n",
            "\n"
          ]
        }
      ]
    },
    {
      "cell_type": "code",
      "source": [
        "# d.) )Modify the string at index 7 as ’A’\n",
        "string1=string1[:7]+'A'+string1[8:]\n",
        "print(string1)"
      ],
      "metadata": {
        "colab": {
          "base_uri": "https://localhost:8080/"
        },
        "id": "qxONqYuJGE8C",
        "outputId": "84b88922-6db9-4bf6-f38e-28d42b1b5f5e"
      },
      "execution_count": 20,
      "outputs": [
        {
          "output_type": "stream",
          "name": "stdout",
          "text": [
            "The ay Aas been long The ay has been long The ay has been long The ay has been long \n",
            "The ay has been long The ay has been long The ay has been long The ay has been long \n",
            "The ay has been long The ay has been long The ay has been long The ay has been long \n",
            "\n"
          ]
        }
      ]
    },
    {
      "cell_type": "code",
      "source": [
        "# e.) Print the string from index 4 to 15\n",
        "string1=string1[4:16]\n",
        "print(string1)"
      ],
      "metadata": {
        "colab": {
          "base_uri": "https://localhost:8080/"
        },
        "id": "nMJhzQeyIH_s",
        "outputId": "e115b507-dd70-4a17-e380-4fba13b44f16"
      },
      "execution_count": 21,
      "outputs": [
        {
          "output_type": "stream",
          "name": "stdout",
          "text": [
            "ay Aas been \n"
          ]
        }
      ]
    },
    {
      "cell_type": "code",
      "source": [
        "# f.) Print the final string with its length\n",
        "print('final string length is ',len(string1))"
      ],
      "metadata": {
        "colab": {
          "base_uri": "https://localhost:8080/"
        },
        "id": "SlE-y7-XItwG",
        "outputId": "9ba98b6e-7430-404c-da50-ba081033aa53"
      },
      "execution_count": 22,
      "outputs": [
        {
          "output_type": "stream",
          "name": "stdout",
          "text": [
            "final string length is  12\n"
          ]
        }
      ]
    }
  ]
}